{
  "cells": [
    {
      "cell_type": "markdown",
      "metadata": {
        "id": "e7CDSanpjjUc"
      },
      "source": [
        "# Desafio 1\n",
        "## Detector de lixo em ruas\n",
        "\n",
        "Treine um modelo utilizando transferência de aprendizado do modelo Yolo V8 (Nano) capaz de detectar sacos de lixo e caixas de papelão para ser utilizado em um detector em tempo real que visa informar aos serviços públicos a qualidade do serviço de coleta.\n",
        "\n",
        "Utilize o dataset preparado para o treinamento de modelos do padrão Yolo neste [repositório](https://github.com/michelpf/dataset-pothole).\n",
        "\n",
        "Se quiser saber mais sobre o dataset, consulte os dados originais no [Kaggle](https://www.kaggle.com/datasets/vencerlanz09/plastic-paper-garbage-bag-synthetic-images).\n",
        "\n",
        "## Critério de sucesso\n",
        "\n",
        "mAP50 > 90%\n",
        "mAP50-95 > 80%\n",
        "\n",
        "Realize a detecção de imagens de exemplo para verificar a robustez do modelo com imagens diferentes de teste e treinamento."
      ]
    },
    {
      "cell_type": "markdown",
      "source": [
        "## 1. Requerimentos\n",
        "\n",
        "### 1.1 Bibliotecas\n",
        "\n",
        "Todas as bibliotecas já estão instaladas no Google Colab, com a exceção do Ultralytics.\n",
        "\n",
        "* OpenCV >= 4.2.0\n",
        "* Numpy >= 1.18.1\n",
        "* Matplotlib > =3.1.3\n",
        "* Ultralytics >= 8.0.0"
      ],
      "metadata": {
        "id": "SIemocB9IJOF"
      }
    },
    {
      "cell_type": "markdown",
      "source": [
        "### 1.2 Arquivos\n",
        "\n",
        "Baixe o repositório do GitHub utilizando o comando abaixo. Em caso de atualização, utilize o comando para apagar o diretório antes."
      ],
      "metadata": {
        "id": "2m3S7uv-IsaL"
      }
    },
    {
      "cell_type": "code",
      "source": [
        "!git clone https://github.com/michelpf/dataset-disposable-bag"
      ],
      "metadata": {
        "id": "B7wi22KDI0sf"
      },
      "execution_count": null,
      "outputs": []
    },
    {
      "cell_type": "markdown",
      "source": [
        "Importação das bibliotecas necessárias."
      ],
      "metadata": {
        "id": "VreefC3hI1vV"
      }
    },
    {
      "cell_type": "code",
      "execution_count": null,
      "metadata": {
        "id": "GJEgQcwXivzR"
      },
      "outputs": [],
      "source": [
        "from ultralytics import YOLO\n",
        "import ultralytics\n",
        "\n",
        "import os\n",
        "import cv2\n",
        "import matplotlib.pyplot as plt"
      ]
    },
    {
      "cell_type": "markdown",
      "source": [
        "Realizando testes de detecção com imagens fora do conjunto de dados de treinamento.\n",
        "Para tanto precisamos baixar as imagens de exemplo do repositório abaixo."
      ],
      "metadata": {
        "id": "pa_Ar9rDJ9H7"
      }
    },
    {
      "cell_type": "code",
      "execution_count": null,
      "metadata": {
        "id": "mAzaF-tgTezf"
      },
      "outputs": [],
      "source": [
        "!git clone https://github.com/michelpf/fiap-ml-visao-computacional"
      ]
    }
  ],
  "metadata": {
    "accelerator": "GPU",
    "colab": {
      "provenance": []
    },
    "kernelspec": {
      "display_name": "Python 3",
      "name": "python3"
    },
    "language_info": {
      "name": "python"
    }
  },
  "nbformat": 4,
  "nbformat_minor": 0
}