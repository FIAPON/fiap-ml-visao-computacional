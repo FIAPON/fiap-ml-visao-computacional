{
 "cells": [
  {
   "cell_type": "code",
   "execution_count": 2,
   "metadata": {},
   "outputs": [],
   "source": [
    "# import libraries\n",
    "import cv2\n",
    "import os"
   ]
  },
  {
   "cell_type": "code",
   "execution_count": 3,
   "metadata": {},
   "outputs": [],
   "source": [
    "# KNN\n",
    "KNN_subtractor = cv2.createBackgroundSubtractorKNN(detectShadows = True) # detectShadows=True : exclude shadow areas from the objects you detected\n",
    "\n",
    "# MOG2\n",
    "MOG2_subtractor = cv2.createBackgroundSubtractorMOG2(detectShadows = True) # exclude shadow areas from the objects you detected\n",
    "\n",
    "# choose your subtractor\n",
    "bg_subtractor=MOG2_subtractor"
   ]
  },
  {
   "cell_type": "code",
   "execution_count": 5,
   "metadata": {},
   "outputs": [],
   "source": [
    "camera = cv2.VideoCapture(os.path.join(\"videos\", \"people_walk.mp4\"))\n",
    "\n",
    "while True:\n",
    "    ret, frame = camera.read()\n",
    "\n",
    "    # Every frame is used both for calculating the foreground mask and for updating the background. \n",
    "    foreground_mask = bg_subtractor.apply(frame)\n",
    "\n",
    "    # threshold if it is bigger than 240 pixel is equal to 255 if smaller pixel is equal to 0\n",
    "    # create binary image , it contains only white and black pixels\n",
    "    ret , treshold = cv2.threshold(foreground_mask.copy(), 120, 255,cv2.THRESH_BINARY)\n",
    "    \n",
    "    #  dilation expands or thickens regions of interest in an image.\n",
    "    dilated = cv2.dilate(treshold,cv2.getStructuringElement(cv2.MORPH_ELLIPSE, (3,3)),iterations = 2)\n",
    "    \n",
    "     # find contours \n",
    "    contours, hier = cv2.findContours(dilated,cv2.RETR_EXTERNAL, cv2.CHAIN_APPROX_SIMPLE)\n",
    "    \n",
    "    # check every contour if are exceed certain value draw bounding boxes\n",
    "    for contour in contours:\n",
    "        # if area exceed certain value then draw bounding boxes\n",
    "        if cv2.contourArea(contour) > 50:\n",
    "            (x,y,w,h) = cv2.boundingRect(contour)\n",
    "            cv2.rectangle(frame, (x,y), (x+w, y+h), (255, 255, 0), 2)\n",
    "\n",
    "    cv2.imshow(\"Subtractor\", foreground_mask)\n",
    "    cv2.imshow(\"threshold\", treshold)\n",
    "    cv2.imshow(\"detection\", frame)\n",
    "    \n",
    "    if cv2.waitKey(30) & 0xff == 27:\n",
    "        break\n",
    "        \n",
    "camera.release()\n",
    "cv2.destroyAllWindows()\n",
    "    \n",
    "        "
   ]
  }
 ],
 "metadata": {
  "kernelspec": {
   "display_name": "Python 3",
   "language": "python",
   "name": "python3"
  },
  "language_info": {
   "codemirror_mode": {
    "name": "ipython",
    "version": 3
   },
   "file_extension": ".py",
   "mimetype": "text/x-python",
   "name": "python",
   "nbconvert_exporter": "python",
   "pygments_lexer": "ipython3",
   "version": "3.9.11"
  }
 },
 "nbformat": 4,
 "nbformat_minor": 2
}
