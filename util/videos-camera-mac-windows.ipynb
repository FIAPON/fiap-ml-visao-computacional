{
 "cells": [
  {
   "cell_type": "markdown",
   "metadata": {},
   "source": [
    "# Vïdeos e câmeras com OpenCV\n",
    "\n",
    "Melhores práticas para trabalharmos em ambientes Windows e MacOS. Especialmente pelo _bug_ no MacOS em não fechar _popups_ do OpenCV.\n",
    "\n",
    "Todas as recomendações são para uso local, ou seja, não funcionam em ambiente virtualizado como o Google Colab."
   ]
  },
  {
   "cell_type": "markdown",
   "metadata": {},
   "source": [
    "## 1. Requerimentos\n",
    "\n",
    "* OpenCV 3.4.3 (instale pelo Anaconda com o comando ```conda install -c conda-forge opencv==3.4.3```)\n",
    "* Pillow (instale pelo Anaconda com o comando ```conda install Pillow```\n",
    "* Matplotlib (instale pelo Anaconda com o comando ```conda install matplotlib```\n",
    "* Numpy (instale pelo Anaconda com o comando ```conda install numpy```"
   ]
  },
  {
   "cell_type": "code",
   "execution_count": 1,
   "metadata": {},
   "outputs": [],
   "source": [
    "import cv2\n",
    "from matplotlib import pyplot as plt\n",
    "import numpy as np"
   ]
  },
  {
   "cell_type": "code",
   "execution_count": 2,
   "metadata": {},
   "outputs": [
    {
     "name": "stdout",
     "output_type": "stream",
     "text": [
      "Versão correta (3.4.3).\n"
     ]
    }
   ],
   "source": [
    "if cv2.__version__ == \"3.4.3\":\n",
    "    print(\"Versão correta (\"+ cv2.__version__  +\").\")\n",
    "else:\n",
    "    print(\"Versão incorreta (\"+ cv2.__version__  +\"). Instale a versão conforme instruções.\")"
   ]
  },
  {
   "cell_type": "markdown",
   "metadata": {},
   "source": [
    "## 2. SO Windows\n",
    "\n",
    "A melhor forma de trabalhar com vídeos no windows, é utilizar o próprio método de visualização do OpenCV, o ```cv2.imshow```, ao invés do PyPlot. Em algumas máquinas renderizar o vídeo no PyPlot pode ser lento.\n",
    "\n",
    "> O índice do construtor ```VideoCapture``` indica a câmera a capturar. Em laptops com 2 ou mais câmeras, utilize índice 0 para a primeira (```cam_capture = cv2.VideoCapture(0)```), 1 para a segunda (```cam_capture = cv2.VideoCapture(1)```) e assim por diante."
   ]
  },
  {
   "cell_type": "code",
   "execution_count": 3,
   "metadata": {},
   "outputs": [],
   "source": [
    "cam_capture = cv2.VideoCapture(1)\n",
    "\n",
    "while True:\n",
    "    ret, image_frame = cam_capture.read()\n",
    "    if ret:\n",
    "        cv2.imshow(\"Video\", image_frame)\n",
    "    if cv2.waitKey(1) == 13:\n",
    "        break\n",
    "        \n",
    "cam_capture.release()\n",
    "cv2.destroyAllWindows()"
   ]
  },
  {
   "cell_type": "markdown",
   "metadata": {},
   "source": [
    "## 3. MacOS\n",
    "\n",
    "No MacOs o método ```cv2.imshow``` abre um *popup* de imagem, porém as instruções de fechá-la, como ```cv2.destroyAllWindows()``` não funciona, resultando no travamento do ambiente de desenvolvimento. Por tal razão desenvolvi o algoritmo abaixo, adatpado deste [artigo](https://medium.com/@kostal91/displaying-real-time-webcam-stream-in-ipython-at-relatively-high-framerate-8e67428ac522). \n",
    "\n",
    ">Neste método, para interromper o vídeo ou o *streaming* da câmera (webcam), é preciso clicar no menu do Jupyter, Kernel, Interrupt Kernel."
   ]
  },
  {
   "cell_type": "code",
   "execution_count": 4,
   "metadata": {},
   "outputs": [
    {
     "name": "stdout",
     "output_type": "stream",
     "text": [
      "Interrompido\n"
     ]
    }
   ],
   "source": [
    "from io import BytesIO\n",
    "from IPython.display import clear_output, Image, display\n",
    "import PIL\n",
    "\n",
    "cam = cv2.VideoCapture(1)\n",
    "\n",
    "try:\n",
    "    while(True):\n",
    "        is_capturing, frame = cam.read()\n",
    "        \n",
    "        if is_capturing:\n",
    "            frame = cv2.cvtColor(frame, cv2.COLOR_BGR2RGB)\n",
    "            img = PIL.Image.fromarray(frame, \"RGB\")\n",
    "            buffer = BytesIO()\n",
    "            img.save(buffer,format=\"JPEG\")        \n",
    "            display(Image(data=buffer.getvalue()))\n",
    "\n",
    "        clear_output(wait=True)\n",
    "except KeyboardInterrupt:\n",
    "    cam.release()\n",
    "    print(\"Interrompido\")"
   ]
  }
 ],
 "metadata": {
  "kernelspec": {
   "display_name": "Python 3",
   "language": "python",
   "name": "python3"
  },
  "language_info": {
   "codemirror_mode": {
    "name": "ipython",
    "version": 3
   },
   "file_extension": ".py",
   "mimetype": "text/x-python",
   "name": "python",
   "nbconvert_exporter": "python",
   "pygments_lexer": "ipython3",
   "version": "3.6.10"
  }
 },
 "nbformat": 4,
 "nbformat_minor": 4
}
